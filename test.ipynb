{
 "cells": [
  {
   "cell_type": "code",
   "execution_count": 1,
   "metadata": {},
   "outputs": [],
   "source": [
    "import requests\n",
    "from bs4 import BeautifulSoup"
   ]
  },
  {
   "cell_type": "code",
   "execution_count": 13,
   "metadata": {},
   "outputs": [],
   "source": [
    "def scrape_datos_partido(url):\n",
    "    # Realizar la solicitud HTTP\n",
    "    response = requests.get(url)\n",
    "    \n",
    "    # Comprobar si la solicitud fue exitosa\n",
    "    if response.status_code == 200:\n",
    "        # Parsear el contenido HTML\n",
    "        soup = BeautifulSoup(response.text, 'html.parser')\n",
    "        \n",
    "        # Encontrar todas las tablas con clase 'datosPartido'\n",
    "        tablas = soup.find_all('table', class_='datosPartido')\n",
    "        \n",
    "        # Lista para almacenar los textos dentro de los td\n",
    "        textos = []\n",
    "        \n",
    "        # Iterar sobre las tablas\n",
    "        for tabla in tablas:\n",
    "            # Encontrar todas las filas dentro de la tabla\n",
    "            filas = tabla.find_all('tr')\n",
    "            \n",
    "            # Iterar sobre las filas\n",
    "            for fila in filas:\n",
    "                # Encontrar todas las celdas dentro de la fila\n",
    "                celdas = fila.find_all('td')\n",
    "                \n",
    "                # Iterar sobre las celdas\n",
    "                for celda in celdas:\n",
    "                    # Agregar el texto de la celda a la lista\n",
    "                    texts = celda.get_text(strip=True)\n",
    "                    textos.append(texts)\n",
    "        \n",
    "        # Devolver la lista de textos\n",
    "        return textos\n",
    "    else:\n",
    "        # Si la solicitud no fue exitosa, imprimir un mensaje de error\n",
    "        print(\"Error al realizar la solicitud HTTP:\", response.status_code)"
   ]
  },
  {
   "cell_type": "code",
   "execution_count": 14,
   "metadata": {},
   "outputs": [
    {
     "data": {
      "text/plain": [
       "[\"23'\",\n",
       " '0-1  Gol de E. Cavani',\n",
       " '',\n",
       " \"65'\",\n",
       " 'M. Rojo expulsado',\n",
       " '',\n",
       " \"73'\",\n",
       " '1-1  Gol de Piquerez (P)',\n",
       " '',\n",
       " '',\n",
       " 'Definición por penales:0-0 Weverton (P) le atajó un penal a E. Cavani',\n",
       " '',\n",
       " '',\n",
       " '0-0 S. Romero le atajó un penal a R. Veiga (P)',\n",
       " '',\n",
       " '',\n",
       " '0-1 Convirtió B. Valdez',\n",
       " '',\n",
       " '',\n",
       " '0-1 S. Romero le atajó un penal a G. Gómez (P)',\n",
       " '',\n",
       " '',\n",
       " '0-2 Convirtió N. Valentini',\n",
       " '',\n",
       " '',\n",
       " '1-2 Convirtió Macedo (P)',\n",
       " '',\n",
       " '',\n",
       " '1-3 Convirtió J. Figal',\n",
       " '',\n",
       " '',\n",
       " '2-3 Convirtió Piquerez (P)',\n",
       " '',\n",
       " '',\n",
       " '2-4 Convirtió G. Fernández',\n",
       " '']"
      ]
     },
     "execution_count": 14,
     "metadata": {},
     "output_type": "execute_result"
    }
   ],
   "source": [
    "url = 'https://www.historiadeboca.com.ar/partido/palmeiras-bra-1-2-boca-1-4-copa-libertadores-2023/6472/2023/112/12.html'\n",
    "\n",
    "# Llamar a la función y almacenar los textos e\n",
    "textos_extraidos = scrape_datos_partido(url)\n",
    "textos_extraidos"
   ]
  }
 ],
 "metadata": {
  "kernelspec": {
   "display_name": "Python 3",
   "language": "python",
   "name": "python3"
  },
  "language_info": {
   "codemirror_mode": {
    "name": "ipython",
    "version": 3
   },
   "file_extension": ".py",
   "mimetype": "text/x-python",
   "name": "python",
   "nbconvert_exporter": "python",
   "pygments_lexer": "ipython3",
   "version": "3.12.0"
  }
 },
 "nbformat": 4,
 "nbformat_minor": 2
}
