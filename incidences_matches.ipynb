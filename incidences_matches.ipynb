{
 "cells": [
  {
   "cell_type": "code",
   "execution_count": 3,
   "metadata": {},
   "outputs": [],
   "source": [
    "import pandas as pd\n",
    "from bs4 import BeautifulSoup\n",
    "import requests\n",
    "import re"
   ]
  },
  {
   "cell_type": "markdown",
   "metadata": {},
   "source": [
    "Extraer las incidencias de un partido en base a su URL en la página historiedeboca.com.ar\n",
    "(Por ahora simplemente crea una lista y no funciona con tandas de penales)"
   ]
  },
  {
   "cell_type": "code",
   "execution_count": 38,
   "metadata": {},
   "outputs": [],
   "source": [
    "def get_incidences(url):\n",
    "    incidences = []\n",
    "    \n",
    "    response = requests.get(url)\n",
    "    if response.status_code == 200:\n",
    "        soup = BeautifulSoup(response.content, 'html.parser')\n",
    "        \n",
    "        incidence_table = soup.find_all('table', class_='datosPartido')\n",
    "        \n",
    "        if incidence_table:\n",
    "            for table in incidence_table:\n",
    "                rows = table.find_all('tr')\n",
    "                for row in rows:\n",
    "                    columns = row.find_all('td')\n",
    "                    if len(columns) >= 2:\n",
    "                        minute = columns[0].get_text().strip()\n",
    "                        text = columns[1].get_text().strip()\n",
    "                        if 'Gol' in text:\n",
    "                            split_text = text.split(' de ')\n",
    "                            if len(split_text) == 2:\n",
    "                                incidence_type = split_text[0]\n",
    "                                pattern = r'\\(([^()]{0,4})\\)'\n",
    "                                match = re.search(pattern, split_text[1])\n",
    "                                if match:\n",
    "                                    goalscorer = split_text[1]\n",
    "                                    goalscorer = re.sub(f' {pattern}', '', goalscorer)\n",
    "                                    team = 'Rival'\n",
    "                                else:\n",
    "                                    goalscorer = split_text[1]\n",
    "                                    team = 'Boca'\n",
    "                                incidences.append([minute, goalscorer, incidence_type, team])\n",
    "                                \n",
    "                        elif 'le atajó un penal' in text:\n",
    "                            pattern = r'^(.*?) le (.*)$'\n",
    "                            coincidence = re.match(pattern, text)\n",
    "                            goalkeeper = coincidence.group(1).strip()\n",
    "                            gk_pattern = r'\\(([^()]{0,4})\\)'\n",
    "                            match = re.search(gk_pattern, goalkeeper)\n",
    "                            if match:\n",
    "                                goalkeeper = re.sub(f' {gk_pattern}', '', goalkeeper)\n",
    "                                team = 'Rival'\n",
    "                            else: team = 'Boca'\n",
    "                            incidence_type = coincidence.group(2).strip()\n",
    "                            incidence_match = re.search(gk_pattern, incidence_type)\n",
    "                            if incidence_match:\n",
    "                                incidence_type = re.sub(f' {gk_pattern}', '', incidence_type)\n",
    "                            incidences.append([minute, goalkeeper, incidence_type, team])\n",
    "                            \n",
    "                        elif 'expulsado' in text:\n",
    "                            player = re.sub(' expulsado', '', text)\n",
    "                            pattern = r'\\(([^()]{0,4})\\)'\n",
    "                            match = re.search(pattern, player)\n",
    "                            if match:\n",
    "                                player = re.sub(f' {pattern}', '', player)\n",
    "                                team = 'Rival'\n",
    "                            else: team = 'Boca'\n",
    "                            incidence_type = 'Expulsado'\n",
    "                            incidences.append([minute, player, incidence_type, team])\n",
    "                        \n",
    "                        elif 'desvió un penal' in text:\n",
    "                            player = re.sub(' desvió un penal', '', text)\n",
    "                            pattern = r'\\(([^()]{0,4})\\)'\n",
    "                            match = re.search(pattern, player)\n",
    "                            if match:\n",
    "                                player = re.sub(f' {pattern}', '', player)\n",
    "                                team = 'Rival'\n",
    "                            else: team = 'Boca'\n",
    "                            incidence_type = 'Desvió un penal'\n",
    "                            incidences.append([minute, player, incidence_type, team])\n",
    "                        \n",
    "        else: incidences = ['None', 'None', 'No hubo incidencencias en el partido', 'None']\n",
    "        return incidences\n",
    "    else: return f'Error {response.status_code}'"
   ]
  },
  {
   "cell_type": "code",
   "execution_count": 39,
   "metadata": {},
   "outputs": [
    {
     "data": {
      "text/plain": [
       "[[\"22'\", 'Benítez', 'Expulsado', 'Rival'],\n",
       " [\"47'\", 'Mazzola', '1-0  Gol', 'Rival'],\n",
       " [\"49'\", 'J. Calleri', 'Expulsado', 'Boca'],\n",
       " [\"57'\", 'N. Lodeiro', '1-1  Gol', 'Boca'],\n",
       " [\"66'\", 'Coronel', 'Expulsado', 'Rival'],\n",
       " [\"90'\", 'A. Chávez', '1-2  Gol', 'Boca']]"
      ]
     },
     "execution_count": 39,
     "metadata": {},
     "output_type": "execute_result"
    }
   ],
   "source": [
    "url = 'https://www.historiadeboca.com.ar/partido/gimnasia-lp-1-boca-2-campeonato-2015/6041.html'\n",
    "\n",
    "incidences = get_incidences(url)\n",
    "incidences"
   ]
  }
 ],
 "metadata": {
  "kernelspec": {
   "display_name": "Python 3",
   "language": "python",
   "name": "python3"
  },
  "language_info": {
   "codemirror_mode": {
    "name": "ipython",
    "version": 3
   },
   "file_extension": ".py",
   "mimetype": "text/x-python",
   "name": "python",
   "nbconvert_exporter": "python",
   "pygments_lexer": "ipython3",
   "version": "3.12.0"
  }
 },
 "nbformat": 4,
 "nbformat_minor": 2
}
