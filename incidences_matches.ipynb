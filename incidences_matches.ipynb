{
 "cells": [
  {
   "cell_type": "code",
   "execution_count": 52,
   "metadata": {},
   "outputs": [],
   "source": [
    "import pandas as pd\n",
    "from bs4 import BeautifulSoup\n",
    "import requests\n",
    "import re"
   ]
  },
  {
   "cell_type": "markdown",
   "metadata": {},
   "source": [
    "Extraer las incidencias de un partido en base a su URL en la página historiedeboca.com.ar\n",
    "(Por ahora simplemente crea una lista y no funciona con tandas de penales)"
   ]
  },
  {
   "cell_type": "code",
   "execution_count": 50,
   "metadata": {},
   "outputs": [],
   "source": [
    "def get_incidences(url):\n",
    "    incidences = []\n",
    "    \n",
    "    response = requests.get(url)\n",
    "    if response.status_code == 200:\n",
    "        soup = BeautifulSoup(response.content, 'html.parser')\n",
    "        \n",
    "        incidence_table = soup.find_all('table', class_='datosPartido')\n",
    "        \n",
    "        if incidence_table:\n",
    "            for table in incidence_table:\n",
    "                rows = table.find_all('tr')\n",
    "                for row in rows:\n",
    "                    columns = row.find_all('td')\n",
    "                    if len(columns) >= 2:\n",
    "                        minute = columns[0].get_text().strip()\n",
    "                        text = columns[1].get_text().strip()\n",
    "                        if 'Gol' in text:\n",
    "                            split_text = text.split(' de ')\n",
    "                            if len(split_text) == 2:\n",
    "                                incidence_type = split_text[0]\n",
    "                                goalscorer = split_text[1]\n",
    "                                incidences.append([minute, goalscorer, incidence_type])\n",
    "                                \n",
    "                        elif 'atajó un penal' in text:\n",
    "                            pattern = r'^(.*?) le (.*)$'\n",
    "                            coincidence = re.match(pattern, text)\n",
    "                            goalkeeper = coincidence.group(1).strip()\n",
    "                            incidence_type = coincidence.group(2).strip()\n",
    "                            incidences.append([minute, goalkeeper, incidence_type])\n",
    "                            \n",
    "                        elif 'expulsado' in text:\n",
    "                            pattern = r'^(.*?) \\((.*?)\\) (.*)$'\n",
    "                            coincidence = re.match(pattern, text)\n",
    "                            player = coincidence.group(1).strip() + ' (' + coincidence.group(2).strip() + ')'\n",
    "                            incidence_type = coincidence.group(3).strip()\n",
    "                            incidences.append([minute, player, incidence_type])\n",
    "        else: incidences = ['None', 'None', 'No hubo incidencencias en el partido']\n",
    "        return incidences\n",
    "    else: return f'Error {response.status_code}'"
   ]
  },
  {
   "cell_type": "code",
   "execution_count": 51,
   "metadata": {},
   "outputs": [
    {
     "data": {
      "text/plain": [
       "[[\"59'\", 'M. Delgado', '1-0  Gol'],\n",
       " [\"84'\", 'J. R. Riquelme (penal)', '2-0  Gol'],\n",
       " [\"86'\", 'Lombardi (RP)', 'expulsado'],\n",
       " [\"90'\", ' M. Palermo', '3-0  Gol']]"
      ]
     },
     "execution_count": 51,
     "metadata": {},
     "output_type": "execute_result"
    }
   ],
   "source": [
    "url = 'https://www.historiadeboca.com.ar/partido/boca-3-river-0-copa-libertadores-2000/2825/2000/109/10.html'\n",
    "\n",
    "incidences = get_incidences(url)\n",
    "incidences"
   ]
  }
 ],
 "metadata": {
  "kernelspec": {
   "display_name": "Python 3",
   "language": "python",
   "name": "python3"
  },
  "language_info": {
   "codemirror_mode": {
    "name": "ipython",
    "version": 3
   },
   "file_extension": ".py",
   "mimetype": "text/x-python",
   "name": "python",
   "nbconvert_exporter": "python",
   "pygments_lexer": "ipython3",
   "version": "3.12.0"
  }
 },
 "nbformat": 4,
 "nbformat_minor": 2
}
